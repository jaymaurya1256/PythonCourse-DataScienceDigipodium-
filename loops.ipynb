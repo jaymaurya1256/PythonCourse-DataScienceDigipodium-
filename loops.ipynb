{
 "cells": [
  {
   "cell_type": "code",
   "execution_count": 4,
   "metadata": {},
   "outputs": [
    {
     "name": "stdout",
     "output_type": "stream",
     "text": [
      "30\n"
     ]
    }
   ],
   "source": [
    "numbers = [1,2,3,4,5,6,7,8,9,10]\n",
    "count = 0\n",
    "for i in numbers:\n",
    "    if i%2 == 0:\n",
    "        count = count + i\n",
    "print(count)\n"
   ]
  },
  {
   "cell_type": "markdown",
   "metadata": {},
   "source": [
    "Nested Loop"
   ]
  },
  {
   "cell_type": "code",
   "execution_count": 8,
   "metadata": {},
   "outputs": [
    {
     "name": "stdout",
     "output_type": "stream",
     "text": [
      "1 2 3 2 3 4 3 4 5 4 5 6 5 6 7 6 7 8 7 8 9 8 9 10 9 10 11 10 11 12 "
     ]
    }
   ],
   "source": [
    "for i in numbers:\n",
    "    for j in range(3):\n",
    "        print(i+j,end=\" \")"
   ]
  },
  {
   "cell_type": "code",
   "execution_count": 11,
   "metadata": {},
   "outputs": [
    {
     "name": "stdout",
     "output_type": "stream",
     "text": [
      "1 1 1 1 1 1 1 1 1 1 \n",
      "2 4 8 16 32 64 128 256 512 1024 \n",
      "3 9 27 81 243 729 2187 6561 19683 59049 \n",
      "4 16 64 256 1024 4096 16384 65536 262144 1048576 \n",
      "5 25 125 625 3125 15625 78125 390625 1953125 9765625 \n",
      "6 36 216 1296 7776 46656 279936 1679616 10077696 60466176 \n",
      "7 49 343 2401 16807 117649 823543 5764801 40353607 282475249 \n",
      "8 64 512 4096 32768 262144 2097152 16777216 134217728 1073741824 \n",
      "9 81 729 6561 59049 531441 4782969 43046721 387420489 3486784401 \n",
      "10 100 1000 10000 100000 1000000 10000000 100000000 1000000000 10000000000 \n"
     ]
    }
   ],
   "source": [
    "for i in range(1,11):\n",
    "    for j in range(1,11):\n",
    "        print(i**j,end=\" \")\n",
    "    print()"
   ]
  },
  {
   "cell_type": "markdown",
   "metadata": {},
   "source": [
    "Code to check if the given number is prime or not"
   ]
  },
  {
   "cell_type": "code",
   "execution_count": 8,
   "metadata": {},
   "outputs": [
    {
     "name": "stdout",
     "output_type": "stream",
     "text": [
      "It's Prime\n"
     ]
    }
   ],
   "source": [
    "x = int(input(\"Enter the number to check for Prime\"))\n",
    "x1 = int(x/2)\n",
    "isPrime = True\n",
    "if x == 1 or x == 2 or x == 3 or x == 5:\n",
    "    print(\"It's Prime\")\n",
    "elif x == 4:\n",
    "    print(\"Not prime\")\n",
    "else:\n",
    "    for i in range(2,x1+1):\n",
    "        if x%i == 0:\n",
    "            print(\"Not Prime\")\n",
    "            isPrime = False\n",
    "            break\n",
    "        else:\n",
    "            continue\n",
    "    if isPrime == True:\n",
    "        print(\"It's Prime\")\n"
   ]
  },
  {
   "cell_type": "markdown",
   "metadata": {},
   "source": [
    "Code to print all the prime numbers upto given number"
   ]
  },
  {
   "cell_type": "code",
   "execution_count": 31,
   "metadata": {},
   "outputs": [
    {
     "name": "stdout",
     "output_type": "stream",
     "text": [
      "1\n",
      "2\n",
      "3\n",
      "5\n",
      "7\n",
      "11\n",
      "13\n",
      "17\n",
      "19\n",
      "23\n",
      "29\n",
      "31\n",
      "37\n",
      "41\n",
      "43\n",
      "47\n",
      "53\n",
      "59\n",
      "61\n",
      "67\n",
      "71\n",
      "73\n",
      "79\n",
      "83\n",
      "89\n",
      "97\n"
     ]
    }
   ],
   "source": [
    "x = int(input(\"Enter the number upto which you want to find the prime numbers\"))\n",
    "flag = True\n",
    "if x <= 5:\n",
    "    for i in range(1,x):\n",
    "        if i != 4:\n",
    "            print(i)\n",
    "        else:\n",
    "            continue\n",
    "else:\n",
    "    for i in range(1,6):\n",
    "        if i != 4:\n",
    "            print(i)\n",
    "        else:\n",
    "            continue\n",
    "    \n",
    "    for j in range(6,x):\n",
    "        x1 = int(j/2)\n",
    "        for i in range(2,x1+1):\n",
    "            if j%i == 0:\n",
    "                flag = False\n",
    "                break\n",
    "            else:\n",
    "                continue\n",
    "        if flag == True:\n",
    "            print(j)\n",
    "        flag = True\n"
   ]
  },
  {
   "cell_type": "markdown",
   "metadata": {},
   "source": [
    "Better and optimised code"
   ]
  },
  {
   "cell_type": "code",
   "execution_count": 10,
   "metadata": {},
   "outputs": [
    {
     "name": "stdout",
     "output_type": "stream",
     "text": [
      "Not prime\n"
     ]
    }
   ],
   "source": [
    "x = int(input(\"Enter any number \"))\n",
    "flag = True\n",
    "xi = int(x/2)\n",
    "for i in range(1,xi+1):\n",
    "    if x%i == 0 and i>1:\n",
    "        flag = False\n",
    "if flag == True:\n",
    "    print(\"It's prime\")\n",
    "else:\n",
    "    print(\"Not prime\")"
   ]
  },
  {
   "cell_type": "markdown",
   "metadata": {},
   "source": []
  }
 ],
 "metadata": {
  "interpreter": {
   "hash": "60f5decb5d5f75cee078769f31acc91db8399f71b0160f2efe6eadfe23786558"
  },
  "kernelspec": {
   "display_name": "Python 3.9.7 64-bit",
   "name": "python3"
  },
  "language_info": {
   "codemirror_mode": {
    "name": "ipython",
    "version": 3
   },
   "file_extension": ".py",
   "mimetype": "text/x-python",
   "name": "python",
   "nbconvert_exporter": "python",
   "pygments_lexer": "ipython3",
   "version": "3.9.7"
  },
  "orig_nbformat": 4
 },
 "nbformat": 4,
 "nbformat_minor": 2
}
