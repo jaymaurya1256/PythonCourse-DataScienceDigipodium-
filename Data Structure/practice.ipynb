{
 "cells": [
  {
   "cell_type": "code",
   "execution_count": 1,
   "metadata": {},
   "outputs": [
    {
     "data": {
      "text/plain": [
       "False"
      ]
     },
     "execution_count": 1,
     "metadata": {},
     "output_type": "execute_result"
    }
   ],
   "source": [
    "x = \"5\"\n",
    "y = 5\n",
    "x == y"
   ]
  },
  {
   "cell_type": "code",
   "execution_count": 2,
   "metadata": {},
   "outputs": [
    {
     "name": "stdout",
     "output_type": "stream",
     "text": [
      "We have 3 fruits\n"
     ]
    }
   ],
   "source": [
    "fruits = [\"banana\",\"apple\",\"pear\"]\n",
    "if fruits:\n",
    "    print(f\"We have {len(fruits)} fruits\")"
   ]
  },
  {
   "cell_type": "code",
   "execution_count": 4,
   "metadata": {},
   "outputs": [
    {
     "data": {
      "text/plain": [
       "['banana', 'pear', 'apple']"
      ]
     },
     "execution_count": 4,
     "metadata": {},
     "output_type": "execute_result"
    }
   ],
   "source": [
    "fruitstring = \"banana,pear,apple\"\n",
    "fruitstring = fruitstring.split(\",\")\n",
    "fruitstring"
   ]
  },
  {
   "cell_type": "code",
   "execution_count": 6,
   "metadata": {},
   "outputs": [
    {
     "data": {
      "text/plain": [
       "['A',\n",
       " 'computer',\n",
       " 'would',\n",
       " 'deserve',\n",
       " 'to',\n",
       " 'be',\n",
       " 'called',\n",
       " 'intelligent',\n",
       " 'if',\n",
       " 'it',\n",
       " 'could',\n",
       " 'deceive',\n",
       " 'a',\n",
       " 'human',\n",
       " 'into',\n",
       " 'believing',\n",
       " 'that',\n",
       " 'it',\n",
       " 'was',\n",
       " 'human']"
      ]
     },
     "execution_count": 6,
     "metadata": {},
     "output_type": "execute_result"
    }
   ],
   "source": [
    "quotestring = \"A computer would deserve to be called intelligent if it could deceive a human into believing that it was human\"\n",
    "quotelist = quotestring.split(\" \")\n",
    "quotelist"
   ]
  },
  {
   "cell_type": "code",
   "execution_count": 7,
   "metadata": {},
   "outputs": [
    {
     "name": "stdout",
     "output_type": "stream",
     "text": [
      "True\n"
     ]
    }
   ],
   "source": [
    "numberoftwoletterwords = 0\n",
    "for word in quotelist:\n",
    "    if len(word) == 2:\n",
    "        numberoftwoletterwords += 1\n",
    "print(numberoftwoletterwords == 5) "
   ]
  },
  {
   "cell_type": "code",
   "execution_count": 8,
   "metadata": {},
   "outputs": [
    {
     "name": "stdout",
     "output_type": "stream",
     "text": [
      "banana,pear,apple\n"
     ]
    }
   ],
   "source": [
    "fruitlist = [\"banana\",\"pear\",\"apple\"]\n",
    "delimiter = \",\"\n",
    "fruitstring = delimiter.join(fruitlist)\n",
    "print(fruitstring)"
   ]
  },
  {
   "cell_type": "code",
   "execution_count": 10,
   "metadata": {},
   "outputs": [
    {
     "name": "stdout",
     "output_type": "stream",
     "text": [
      "Security found at position 32\n"
     ]
    }
   ],
   "source": [
    "text = \"We spend our time searching for security and hate it when we get it\"\n",
    "found = text.find(\"security\")\n",
    "\n",
    "if found == -1:\n",
    "    print(\"No security found :(\")\n",
    "else:\n",
    "    print(\"Security found at position \" + str(found))"
   ]
  },
  {
   "cell_type": "code",
   "execution_count": 11,
   "metadata": {},
   "outputs": [
    {
     "name": "stdout",
     "output_type": "stream",
     "text": [
      "You can  compare apples and apples\n"
     ]
    }
   ],
   "source": [
    "text = \"You can not compare apples and pears\"\n",
    "text = text.replace(\"pears\",\"apples\")\n",
    "text = text.replace(\"not\",\"\")\n",
    "print(text)"
   ]
  },
  {
   "cell_type": "code",
   "execution_count": 12,
   "metadata": {},
   "outputs": [
    {
     "name": "stdout",
     "output_type": "stream",
     "text": [
      "Rsrch hs shwn tht t s ftn stll pssbl t ndrstnd txt vn f ll vwls r rmvd\n"
     ]
    }
   ],
   "source": [
    "text = \"Research has shown that it is often still possible to understand text even if all vowels are removed\"\n",
    "for vowel in (\"a\",\"e\",\"i\",\"o\",\"u\"):\n",
    "    text = text.replace(vowel,\"\")\n",
    "print(text)"
   ]
  },
  {
   "cell_type": "code",
   "execution_count": 15,
   "metadata": {},
   "outputs": [
    {
     "name": "stdout",
     "output_type": "stream",
     "text": [
      "strip me!\n"
     ]
    }
   ],
   "source": [
    "s = \"   strip me!      \"\n",
    "print(s.strip())"
   ]
  },
  {
   "cell_type": "code",
   "execution_count": 17,
   "metadata": {},
   "outputs": [
    {
     "name": "stdout",
     "output_type": "stream",
     "text": [
      "fogert karsdrop and maarten van gompel\n",
      "FOGERT KARSDROP AND MAARTEN VAN GOMPEL\n"
     ]
    }
   ],
   "source": [
    "teachers = \"Fogert Karsdrop and Maarten van Gompel\"\n",
    "print(teachers.lower())\n",
    "print(teachers.upper())"
   ]
  },
  {
   "cell_type": "code",
   "execution_count": 20,
   "metadata": {},
   "outputs": [
    {
     "name": "stdout",
     "output_type": "stream",
     "text": [
      "3\n"
     ]
    }
   ],
   "source": [
    "words = [\"BIA\",\"plop\",\"biA\",\"Bla\",\"PloP\",\"bLa\",\"BLA\"]\n",
    "count = 0\n",
    "for word in words:\n",
    "    if word.lower() == \"bla\":\n",
    "        count += 1\n",
    "print(count)"
   ]
  },
  {
   "cell_type": "code",
   "execution_count": 21,
   "metadata": {},
   "outputs": [
    {
     "name": "stdout",
     "output_type": "stream",
     "text": [
      "banana\n"
     ]
    }
   ],
   "source": [
    "fruitstupple = (\"banana\",\"apple\",\"pears\")\n",
    "print(fruitstupple[0])"
   ]
  },
  {
   "cell_type": "code",
   "execution_count": 22,
   "metadata": {},
   "outputs": [
    {
     "name": "stdout",
     "output_type": "stream",
     "text": [
      "4\n"
     ]
    }
   ],
   "source": [
    "fruitset = {\"banana\",\"apple\",\"pear\"}\n",
    "fruitset.add(\"banana\")\n",
    "fruitset.add(\"orange\")\n",
    "print(len(fruitset))"
   ]
  },
  {
   "cell_type": "code",
   "execution_count": 23,
   "metadata": {},
   "outputs": [
    {
     "name": "stdout",
     "output_type": "stream",
     "text": [
      "1\n",
      "5\n",
      "15\n"
     ]
    }
   ],
   "source": [
    "numbers = [1,2,3,4,5]\n",
    "print(min(numbers))\n",
    "print(max(numbers))\n",
    "print(sum(numbers))"
   ]
  },
  {
   "cell_type": "code",
   "execution_count": 24,
   "metadata": {},
   "outputs": [
    {
     "name": "stdout",
     "output_type": "stream",
     "text": [
      "[2, 4, 6, 8, 10]\n"
     ]
    }
   ],
   "source": [
    "numbers = [ 1,2,3,4,5]\n",
    "doublenumbers = [number*2 for number in numbers]\n",
    "print(doublenumbers)"
   ]
  },
  {
   "cell_type": "code",
   "execution_count": 25,
   "metadata": {},
   "outputs": [],
   "source": [
    "numbers = [1,2,3,4,5]\n",
    "numbers = [x+2 for x in numbers]"
   ]
  },
  {
   "cell_type": "code",
   "execution_count": 37,
   "metadata": {},
   "outputs": [
    {
     "name": "stdout",
     "output_type": "stream",
     "text": [
      "86\n",
      "73\n",
      "39\n",
      "91\n",
      "79\n",
      "70\n",
      "5\n",
      "36\n",
      "73\n",
      "64\n",
      "19\n",
      "23\n",
      "78\n",
      "92\n",
      "9\n",
      "21\n",
      "53\n",
      "22\n",
      "98\n",
      "6\n",
      "55\n",
      "14\n",
      "25\n",
      "40\n",
      "67\n",
      "2\n",
      "90\n",
      "24\n",
      "64\n",
      "2\n",
      "5\n",
      "11\n",
      "10\n",
      "83\n",
      "44\n",
      "95\n",
      "96\n",
      "75\n",
      "82\n",
      "68\n",
      "22\n",
      "23\n",
      "3\n",
      "15\n",
      "57\n",
      "73\n",
      "76\n",
      "1\n",
      "99\n",
      "26\n",
      "71\n",
      "41\n",
      "10\n",
      "43\n",
      "95\n",
      "49\n",
      "31\n",
      "71\n",
      "89\n",
      "22\n",
      "88\n",
      "91\n",
      "65\n",
      "27\n",
      "42\n"
     ]
    }
   ],
   "source": [
    "import random\n",
    "number = 0\n",
    "while number != 42:\n",
    "    number = random.randint(0,100)\n",
    "    print(number)"
   ]
  },
  {
   "cell_type": "code",
   "execution_count": 43,
   "metadata": {},
   "outputs": [
    {
     "name": "stdout",
     "output_type": "stream",
     "text": [
      "File not found\n"
     ]
    }
   ],
   "source": [
    "try:\n",
    "    f = open(\"data/austen-emma-excerpt.txt\",\"r\")\n",
    "    text = f.read()\n",
    "    f.close()\n",
    "    print(text)\n",
    "except:\n",
    "    print(\"File not found\")\n"
   ]
  },
  {
   "cell_type": "code",
   "execution_count": 44,
   "metadata": {},
   "outputs": [
    {
     "name": "stdout",
     "output_type": "stream",
     "text": [
      "File not found\n"
     ]
    }
   ],
   "source": [
    "try:\n",
    "    f = open(\"data/austen-emma-excerpt.txt\",\"w\")\n",
    "    f.write(\"Hello world!\")\n",
    "    f.close()\n",
    "except:\n",
    "    print(\"File not found\")"
   ]
  },
  {
   "cell_type": "code",
   "execution_count": null,
   "metadata": {},
   "outputs": [],
   "source": []
  }
 ],
 "metadata": {
  "interpreter": {
   "hash": "916dbcbb3f70747c44a77c7bcd40155683ae19c65e1c03b4aa3499c5328201f1"
  },
  "kernelspec": {
   "display_name": "Python 3.8.10 64-bit",
   "language": "python",
   "name": "python3"
  },
  "language_info": {
   "codemirror_mode": {
    "name": "ipython",
    "version": 3
   },
   "file_extension": ".py",
   "mimetype": "text/x-python",
   "name": "python",
   "nbconvert_exporter": "python",
   "pygments_lexer": "ipython3",
   "version": "3.8.10"
  },
  "orig_nbformat": 4
 },
 "nbformat": 4,
 "nbformat_minor": 2
}
